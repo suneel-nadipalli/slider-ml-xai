{
 "cells": [
  {
   "cell_type": "code",
   "execution_count": 1,
   "metadata": {},
   "outputs": [],
   "source": [
    "import sys\n",
    "\n",
    "sys.path.append('..')\n",
    "\n",
    "from utils.train.train_reg import *\n",
    "\n",
    "from utils.train.train_log_reg import *\n",
    "\n",
    "from utils.train.train_dec_tree_clf import *\n",
    "\n",
    "from utils.train.train_dec_tree_reg import *"
   ]
  },
  {
   "cell_type": "code",
   "execution_count": null,
   "metadata": {},
   "outputs": [],
   "source": [
    "# Running the pipeline\n",
    "X, y = load_data()\n",
    "\n",
    "model, X_test, y_test = train_model(X, y)\n",
    "\n",
    "save_model(model)\n"
   ]
  },
  {
   "cell_type": "code",
   "execution_count": 3,
   "metadata": {},
   "outputs": [
    {
     "name": "stdout",
     "output_type": "stream",
     "text": [
      "Classification Report:\n",
      "               precision    recall  f1-score   support\n",
      "\n",
      "           0       0.82      0.84      0.83       105\n",
      "           1       0.76      0.74      0.75        74\n",
      "\n",
      "    accuracy                           0.80       179\n",
      "   macro avg       0.79      0.79      0.79       179\n",
      "weighted avg       0.80      0.80      0.80       179\n",
      "\n",
      "Logistic Regression model saved as 'logistic_titanic_model.pkl'\n",
      "Test data saved as 'titanic_test_data.csv'\n"
     ]
    },
    {
     "name": "stderr",
     "output_type": "stream",
     "text": [
      "c:\\Me\\Duke\\Classes\\Fall '24\\PhD Apps\\projects\\slider-ml\\api\\notebooks\\..\\utils\\train\\train_log_reg.py:27: FutureWarning: A value is trying to be set on a copy of a DataFrame or Series through chained assignment using an inplace method.\n",
      "The behavior will change in pandas 3.0. This inplace method will never work because the intermediate object on which we are setting values always behaves as a copy.\n",
      "\n",
      "For example, when doing 'df[col].method(value, inplace=True)', try using 'df.method({col: value}, inplace=True)' or df[col] = df[col].method(value) instead, to perform the operation inplace on the original object.\n",
      "\n",
      "\n",
      "  data[\"age\"].fillna(data[\"age\"].median(), inplace=True)\n",
      "c:\\Me\\Duke\\Classes\\Fall '24\\PhD Apps\\projects\\slider-ml\\api\\notebooks\\..\\utils\\train\\train_log_reg.py:28: FutureWarning: A value is trying to be set on a copy of a DataFrame or Series through chained assignment using an inplace method.\n",
      "The behavior will change in pandas 3.0. This inplace method will never work because the intermediate object on which we are setting values always behaves as a copy.\n",
      "\n",
      "For example, when doing 'df[col].method(value, inplace=True)', try using 'df.method({col: value}, inplace=True)' or df[col] = df[col].method(value) instead, to perform the operation inplace on the original object.\n",
      "\n",
      "\n",
      "  data[\"fare\"].fillna(data[\"fare\"].median(), inplace=True)\n",
      "c:\\Me\\Duke\\Classes\\Fall '24\\PhD Apps\\projects\\slider-ml\\api\\notebooks\\..\\utils\\train\\train_log_reg.py:29: FutureWarning: A value is trying to be set on a copy of a DataFrame or Series through chained assignment using an inplace method.\n",
      "The behavior will change in pandas 3.0. This inplace method will never work because the intermediate object on which we are setting values always behaves as a copy.\n",
      "\n",
      "For example, when doing 'df[col].method(value, inplace=True)', try using 'df.method({col: value}, inplace=True)' or df[col] = df[col].method(value) instead, to perform the operation inplace on the original object.\n",
      "\n",
      "\n",
      "  data[\"embarked\"].fillna(data[\"embarked\"].mode()[0], inplace=True)\n"
     ]
    }
   ],
   "source": [
    "X, y = load_and_preprocess_titanic_data()\n",
    "\n",
    "# Train the model\n",
    "logistic_model, X_test, y_test = train_logistic_regression(X, y)\n",
    "\n",
    "# Save the model and test data\n",
    "save_logistic_model_and_data(logistic_model, X_test, y_test)"
   ]
  },
  {
   "cell_type": "code",
   "execution_count": null,
   "metadata": {},
   "outputs": [],
   "source": []
  },
  {
   "cell_type": "code",
   "execution_count": 2,
   "metadata": {},
   "outputs": [
    {
     "name": "stdout",
     "output_type": "stream",
     "text": [
      "Mean Squared Error: 25.94\n",
      "R^2 Score: 0.49\n",
      "Model saved as 'reg_tree_miles.pkl'\n",
      "Test data saved as 'reg_tree_mile.csv'\n"
     ]
    }
   ],
   "source": [
    "X, y = load_auto_mpg_data()\n",
    "tree_model, X_test, y_test = train_decision_tree_regressor(X, y)\n",
    "save_model_and_test_data(tree_model, X_test, y_test)"
   ]
  },
  {
   "cell_type": "code",
   "execution_count": null,
   "metadata": {},
   "outputs": [],
   "source": []
  }
 ],
 "metadata": {
  "kernelspec": {
   "display_name": ".venv",
   "language": "python",
   "name": "python3"
  },
  "language_info": {
   "codemirror_mode": {
    "name": "ipython",
    "version": 3
   },
   "file_extension": ".py",
   "mimetype": "text/x-python",
   "name": "python",
   "nbconvert_exporter": "python",
   "pygments_lexer": "ipython3",
   "version": "3.11.8"
  }
 },
 "nbformat": 4,
 "nbformat_minor": 2
}
